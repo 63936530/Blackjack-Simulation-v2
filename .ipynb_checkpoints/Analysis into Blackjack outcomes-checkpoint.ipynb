{
 "cells": [
  {
   "cell_type": "code",
   "execution_count": 5,
   "metadata": {
    "slideshow": {
     "slide_type": "notes"
    }
   },
   "outputs": [],
   "source": [
    "from game_simulation import GameOutcome #imports the simulated game that I built. See Github for details on how it was built\n",
    "import matplotlib.pyplot as plt"
   ]
  },
  {
   "cell_type": "markdown",
   "metadata": {
    "slideshow": {
     "slide_type": "notes"
    }
   },
   "source": [
    "Disclaimer: For research use only, does not guarantee any outcomes or strategy on blackjack"
   ]
  },
  {
   "cell_type": "code",
   "execution_count": 6,
   "metadata": {
    "slideshow": {
     "slide_type": "notes"
    }
   },
   "outputs": [],
   "source": [
    "blackjack = GameOutcome()"
   ]
  },
  {
   "cell_type": "code",
   "execution_count": 7,
   "metadata": {
    "slideshow": {
     "slide_type": "notes"
    }
   },
   "outputs": [],
   "source": [
    "def run_simulation(betting, hold):\n",
    "    \"\"\"\n",
    "    Run the blackjack simulation 1000 times on a certain bet and holding amount. \n",
    "    Returns a list of the final amount of the game.\n",
    "    \"\"\"\n",
    "    final_amount = []\n",
    "    number_of_bets = []\n",
    "\n",
    "    for i in range(1000):\n",
    "        bid_numbers = 0\n",
    "        blackjack.AddFunds(1000)\n",
    "        for j in range(1000):\n",
    "            blackjack.Betting(betting, hold)\n",
    "            bid_numbers += 1\n",
    "            if blackjack.amount <= 0:\n",
    "                break\n",
    "        final_amount.append(blackjack.amount)\n",
    "        number_of_bets.append(bid_numbers)\n",
    "    \n",
    "    return final_amount, number_of_bets"
   ]
  },
  {
   "cell_type": "code",
   "execution_count": 8,
   "metadata": {
    "slideshow": {
     "slide_type": "notes"
    }
   },
   "outputs": [],
   "source": [
    "def distribute_outcomes(bet, hold, plot=True):\n",
    "    \"\"\"\n",
    "    Get the distribution of 1000 versions of the run_simulation function. \n",
    "    Output is a list of the final amounts.\n",
    "    \"\"\"\n",
    "    test1, test2 = run_simulation(bet, hold)\n",
    "    bet_amount = 1000\n",
    "    outcome = []\n",
    "    filename = \"outcome_with_{number}_limit.png\".format(number=hold)\n",
    "    for i in test1:\n",
    "        diff = i - bet_amount\n",
    "        outcome.append(diff)\n",
    "    if plot is True:\n",
    "        plt.figure(figsize=(15,10))\n",
    "        plt.hist(outcome)\n",
    "        plt.title(\"Distribution of outcome for 1m blackjack games, betting {a} holding at {b}\".format(a=bet, b=hold))\n",
    "    else:\n",
    "        return outcome"
   ]
  },
  {
   "cell_type": "code",
   "execution_count": 9,
   "metadata": {
    "slideshow": {
     "slide_type": "notes"
    }
   },
   "outputs": [],
   "source": [
    "def double_down_loop(bid, amount, hands_played):\n",
    "    total_plays = []\n",
    "    for i in range(hands_played):\n",
    "        length_of_play = 0\n",
    "        blackjack.AddFunds(1000)\n",
    "        for i in range(hands_played):\n",
    "            blackjack.double_down(bid, amount)\n",
    "            length_of_play += 1\n",
    "            if blackjack.amount <= 0:\n",
    "                break\n",
    "        total_plays.append(length_of_play)\n",
    "    plt.figure(figsize=(15,10))\n",
    "    plt.hist(total_plays,bins=100)\n",
    "\n",
    "    plt.show()\n",
    "    "
   ]
  },
  {
   "cell_type": "markdown",
   "metadata": {
    "slideshow": {
     "slide_type": "slide"
    }
   },
   "source": [
    "## Overview\n",
    "\n",
    "This analysis is to see what blackjack strategy, overtime, would be the most optimal for returns. For the purpose of this analysis we will only look at strategy of the value to hold at and bidding since card counting is futile. \n",
    "\n",
    "This will answer 3 questions:\n",
    "\n",
    "* If you were to play 1000 hands of blackjack 1000 times what would the distribution of outcomes based on holding.\n",
    "* Does bidding strategy matter\n",
    "* If you attmepted to play a double down only strategy (everytime you lose you double your bid until you win) how many hands could you play until you went bust? \n",
    "\n"
   ]
  },
  {
   "cell_type": "markdown",
   "metadata": {},
   "source": [
    "### Methodology\n",
    "\n",
    "To analyze these outcomes I recreated a simple version of Blackjack to calculate the outcome of one bet. The simulation focuses on some simple blackjack rules:\n",
    "\n",
    "- Ace is valued at 11 unless >10, then its 1\n",
    "- The dealer holds at 17\n",
    "- Cards are drawn until the value is greater or equal to the hold amount\n",
    "- The game is a simple bet where winning gives returns the user double and losing subtracts it from the pot. \n",
    "\n",
    "\n",
    "\n",
    "I used this base to  run a simulation on 1000 hands, with a starting amount of $1000. The main metric I wanted for an output is the net difference, which is: \n",
    "\n",
    "Final amount - $1000\n",
    "\n",
    "If the player loases all of their money, the game stops and final amount is equal to 0..\n",
    "\n",
    "As a follow up analysis I also included capabilities to look into doubling down, namely the strategy on doubling your bet until you win a hand. As you likely will end up with 0 after 1000 hands, my aim would be to see how many hands a player could play until they went bust. \n",
    "\n"
   ]
  },
  {
   "cell_type": "markdown",
   "metadata": {
    "slideshow": {
     "slide_type": "slide"
    }
   },
   "source": [
    "### Question 1: Does bidding strategy matter?\n",
    "\n",
    "To answer this lets just run the above simulation holding at 16 changing only the bids. \n",
    "\n",
    "If it was the case that bidding strategy matters then we should see a significant variance in the distribution of betting outcomes.\n"
   ]
  },
  {
   "cell_type": "code",
   "execution_count": 71,
   "metadata": {
    "slideshow": {
     "slide_type": "slide"
    }
   },
   "outputs": [
    {
     "data": {
      "text/plain": [
       "<matplotlib.legend.Legend at 0x123514a58>"
      ]
     },
     "execution_count": 71,
     "metadata": {},
     "output_type": "execute_result"
    },
    {
     "data": {
      "image/png": "[encoded data removed]",
      "text/plain": [
       "<Figure size 1080x720 with 1 Axes>"
      ]
     },
     "metadata": {
      "needs_background": "light"
     },
     "output_type": "display_data"
    }
   ],
   "source": [
    "plt.figure(figsize=(15,10))\n",
    "for i in [10,20,30,40,50]:\n",
    "    plt.hist(distribute_outcomes(i, 16, False), alpha=0.4)\n",
    "plt.legend(['10', '20','30','40','50'])"
   ]
  },
  {
   "cell_type": "markdown",
   "metadata": {},
   "source": [
    "Apart from long tails emerging in the higher bids the outcome should be relatively similar. Lets repeat above with only the bids from 10 - 30"
   ]
  },
  {
   "cell_type": "code",
   "execution_count": 73,
   "metadata": {
    "slideshow": {
     "slide_type": "slide"
    }
   },
   "outputs": [
    {
     "data": {
      "text/plain": [
       "<matplotlib.legend.Legend at 0x11e6d8710>"
      ]
     },
     "execution_count": 73,
     "metadata": {},
     "output_type": "execute_result"
    },
    {
     "data": {
      "image/png": "[encoded data removed]",
      "text/plain": [
       "<Figure size 1080x720 with 1 Axes>"
      ]
     },
     "metadata": {
      "needs_background": "light"
     },
     "output_type": "display_data"
    }
   ],
   "source": [
    "plt.figure(figsize=(15,10))\n",
    "for i in [10,20,30]:\n",
    "    plt.hist(distribute_outcomes(i, 16, False), alpha=0.4)\n",
    "plt.legend(['10', '20','30'])"
   ]
  },
  {
   "cell_type": "markdown",
   "metadata": {},
   "source": [
    "**Conclusion**: There is no significant difference or advantage in using bidding as a strategic bet to win an outcome. The distribution gets larger based on the bet amount, but the hsitogram peaks don't significantly shift. "
   ]
  },
  {
   "cell_type": "markdown",
   "metadata": {
    "slideshow": {
     "slide_type": "slide"
    }
   },
   "source": [
    "## Holding"
   ]
  },
  {
   "cell_type": "code",
   "execution_count": 75,
   "metadata": {
    "slideshow": {
     "slide_type": "slide"
    }
   },
   "outputs": [
    {
     "data": {
      "text/plain": [
       "<matplotlib.legend.Legend at 0x121951d68>"
      ]
     },
     "execution_count": 75,
     "metadata": {},
     "output_type": "execute_result"
    },
    {
     "data": {
      "image/png": "[encoded data removed]",
      "text/plain": [
       "<Figure size 1080x720 with 1 Axes>"
      ]
     },
     "metadata": {
      "needs_background": "light"
     },
     "output_type": "display_data"
    }
   ],
   "source": [
    "plt.figure(figsize=(15,10))\n",
    "for i in [14,15,16,17,18]:\n",
    "    plt.hist(distribute_outcomes(10, i, False), alpha=0.2)\n",
    "plt.legend(['14','15','16','17','18'])"
   ]
  },
  {
   "cell_type": "code",
   "execution_count": 76,
   "metadata": {
    "slideshow": {
     "slide_type": "slide"
    }
   },
   "outputs": [
    {
     "data": {
      "text/plain": [
       "<matplotlib.legend.Legend at 0x122c9ceb8>"
      ]
     },
     "execution_count": 76,
     "metadata": {},
     "output_type": "execute_result"
    },
    {
     "data": {
      "image/png": "[encoded data removed]",
      "text/plain": [
       "<Figure size 1080x720 with 1 Axes>"
      ]
     },
     "metadata": {
      "needs_background": "light"
     },
     "output_type": "display_data"
    }
   ],
   "source": [
    "plt.figure(figsize=(15,10))\n",
    "for i in [15,16,17,18]:\n",
    "    plt.hist(distribute_outcomes(10, i, False), alpha=0.2)\n",
    "plt.legend(['15','16','17','18'])"
   ]
  },
  {
   "cell_type": "markdown",
   "metadata": {},
   "source": [
    "So, holding on 15,16,17 appears to give you the best return in overtime. Now lets break this out into three distinct charts to see if there is one hand that could have a better outcome against the others. \n",
    "\n",
    "Looking at them combined shows no significant change, but the coloring could skewer this."
   ]
  },
  {
   "cell_type": "code",
   "execution_count": 79,
   "metadata": {
    "slideshow": {
     "slide_type": "slide"
    }
   },
   "outputs": [
    {
     "data": {
      "text/plain": [
       "<matplotlib.legend.Legend at 0x124859860>"
      ]
     },
     "execution_count": 79,
     "metadata": {},
     "output_type": "execute_result"
    },
    {
     "data": {
      "image/png": "[encoded data removed]",
      "text/plain": [
       "<Figure size 1080x720 with 1 Axes>"
      ]
     },
     "metadata": {
      "needs_background": "light"
     },
     "output_type": "display_data"
    }
   ],
   "source": [
    "plt.figure(figsize=(15,10))\n",
    "for i in [15,16,17]:\n",
    "    plt.hist(distribute_outcomes(10, i, False), alpha=0.2,bins=50)\n",
    "plt.legend(['15','16','17'])"
   ]
  },
  {
   "cell_type": "markdown",
   "metadata": {
    "slideshow": {
     "slide_type": "slide"
    }
   },
   "source": [
    "Lets use Seaborn to make a grid to compare the outcomes:"
   ]
  },
  {
   "cell_type": "code",
   "execution_count": 44,
   "metadata": {},
   "outputs": [],
   "source": [
    "import seaborn as sns\n",
    "import pandas as pd"
   ]
  },
  {
   "cell_type": "code",
   "execution_count": 40,
   "metadata": {},
   "outputs": [],
   "source": [
    "results = {}\n",
    "\n",
    "for i in [15,16,17]:\n",
    "    results[i] = distribute_outcomes(10, i, False)"
   ]
  },
  {
   "cell_type": "code",
   "execution_count": 41,
   "metadata": {},
   "outputs": [],
   "source": [
    "hold = []\n",
    "amount = []\n",
    "for i in results.keys():\n",
    "    for j in results[i]:\n",
    "        hold.append(i)\n",
    "        amount.append(j)"
   ]
  },
  {
   "cell_type": "code",
   "execution_count": 43,
   "metadata": {},
   "outputs": [],
   "source": [
    "results_frame = pd.DataFrame({'hold':hold,'amount':amount})"
   ]
  },
  {
   "cell_type": "code",
   "execution_count": 52,
   "metadata": {},
   "outputs": [
    {
     "data": {
      "text/plain": [
       "<seaborn.axisgrid.FacetGrid at 0x1a25bb5278>"
      ]
     },
     "execution_count": 52,
     "metadata": {},
     "output_type": "execute_result"
    },
    {
     "data": {
      "image/png": "[encoded data removed]",
      "text/plain": [
       "<Figure size 864x864 with 3 Axes>"
      ]
     },
     "metadata": {
      "needs_background": "light"
     },
     "output_type": "display_data"
    }
   ],
   "source": [
    "g = sns.FacetGrid(results_frame, row='hold',height=4, aspect=3)\n",
    "g.map(plt.hist, \"amount\")"
   ]
  },
  {
   "cell_type": "markdown",
   "metadata": {},
   "source": [
    "Based on the above distributions, holding on 15 & 16 appear to have the most frequently positive outcomes, although not a signficant shift in the average outcome. 17 can have a slightly negative return overall. "
   ]
  }
 ],
 "metadata": {
  "celltoolbar": "Slideshow",
  "kernelspec": {
   "display_name": "Python 3",
   "language": "python",
   "name": "python3"
  },
  "language_info": {
   "codemirror_mode": {
    "name": "ipython",
    "version": 3
   },
   "file_extension": ".py",
   "mimetype": "text/x-python",
   "name": "python",
   "nbconvert_exporter": "python",
   "pygments_lexer": "ipython3",
   "version": "3.7.1"
  }
 },
 "nbformat": 4,
 "nbformat_minor": 2
}
